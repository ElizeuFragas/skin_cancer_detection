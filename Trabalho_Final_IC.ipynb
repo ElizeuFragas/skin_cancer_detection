{
  "cells": [
    {
      "cell_type": "markdown",
      "metadata": {
        "id": "view-in-github",
        "colab_type": "text"
      },
      "source": [
        "<a href=\"https://colab.research.google.com/github/ElizeuFragas/skin_cancer_detection/blob/main/Trabalho_Final_IC.ipynb\" target=\"_parent\"><img src=\"https://colab.research.google.com/assets/colab-badge.svg\" alt=\"Open In Colab\"/></a>"
      ]
    },
    {
      "cell_type": "markdown",
      "metadata": {
        "id": "Y6WGH_hC4i6y"
      },
      "source": [
        "# Setup"
      ]
    },
    {
      "cell_type": "code",
      "execution_count": null,
      "metadata": {
        "id": "ZQn110E23lMm",
        "colab": {
          "base_uri": "https://localhost:8080/"
        },
        "outputId": "7ec77298-1ae2-4301-b50e-ac9f72bac167"
      },
      "outputs": [
        {
          "output_type": "stream",
          "name": "stdout",
          "text": [
            "Mounted at drive\n"
          ]
        }
      ],
      "source": [
        "import os\n",
        "import pickle as pk\n",
        "from google.colab import drive\n",
        "from keras.models import load_model\n",
        "\n",
        "os.environ['TF_CPP_MIN_LOG_LEVEL'] = '2'\n",
        "drive.mount('drive', force_remount=True)"
      ]
    },
    {
      "cell_type": "code",
      "source": [
        "drive.flush_and_unmount()"
      ],
      "metadata": {
        "id": "04BA8YhDhsOw"
      },
      "execution_count": null,
      "outputs": []
    },
    {
      "cell_type": "code",
      "source": [
        "dir = '/content/drive/MyDrive/Trabalho_final_ic/'\n",
        "\n",
        "if not os.path.exists(dir):\n",
        "  !mkdir -p drive/MyDrive/Trabalho_final_ic/\n",
        "  !gdown --folder --remaining-ok https://drive.google.com/drive/folders/1OqpB7E4VyffZBNMaQSD9W02fEv49Tnth?usp=sharing\n",
        "  !mv Trabalho_final_ic/ /drive/MyDrive/"
      ],
      "metadata": {
        "id": "gu9N_axJnUEp"
      },
      "execution_count": null,
      "outputs": []
    },
    {
      "cell_type": "code",
      "execution_count": null,
      "metadata": {
        "id": "WlPVToDv4Xal",
        "colab": {
          "base_uri": "https://localhost:8080/"
        },
        "outputId": "feec8633-7eab-4780-98bc-7ffe0de89d31"
      },
      "outputs": [
        {
          "output_type": "stream",
          "name": "stdout",
          "text": [
            "/content/drive/MyDrive/Trabalho_final_ic/ml_projects\n",
            "Already up to date.\n"
          ]
        }
      ],
      "source": [
        "dir = '/content/drive/MyDrive/Trabalho_final_ic/ml_projects/'\n",
        "if not os.path.exists(dir):\n",
        "  %cd drive/MyDrive/Trabalho_final_ic/\n",
        "  !git clone https://github.com/ElizeuFragas/ml_projects.git\n",
        "else:\n",
        "  %cd /content/drive/MyDrive/Trabalho_final_ic/ml_projects/\n",
        "  !git pull"
      ]
    },
    {
      "cell_type": "code",
      "execution_count": null,
      "metadata": {
        "id": "7m5qEKPUha6I",
        "colab": {
          "base_uri": "https://localhost:8080/"
        },
        "outputId": "2081c821-abc3-4324-d362-25dd3ad361cd"
      },
      "outputs": [
        {
          "output_type": "stream",
          "name": "stdout",
          "text": [
            "\u001b[?25l     \u001b[90m━━━━━━━━━━━━━━━━━━━━━━━━━━━━━━━━━━━━━━━━\u001b[0m \u001b[32m0.0/390.6 kB\u001b[0m \u001b[31m?\u001b[0m eta \u001b[36m-:--:--\u001b[0m\r\u001b[2K     \u001b[91m━━━━━━━━━━━━━━━━━━━━━━━━━━━━━━━━━━━━━\u001b[0m\u001b[91m╸\u001b[0m \u001b[32m389.1/390.6 kB\u001b[0m \u001b[31m11.9 MB/s\u001b[0m eta \u001b[36m0:00:01\u001b[0m\r\u001b[2K     \u001b[90m━━━━━━━━━━━━━━━━━━━━━━━━━━━━━━━━━━━━━━━\u001b[0m \u001b[32m390.6/390.6 kB\u001b[0m \u001b[31m9.2 MB/s\u001b[0m eta \u001b[36m0:00:00\u001b[0m\n",
            "\u001b[2K     \u001b[90m━━━━━━━━━━━━━━━━━━━━━━━━━━━━━━━━━━━━━━━━\u001b[0m \u001b[32m4.5/4.5 MB\u001b[0m \u001b[31m73.1 MB/s\u001b[0m eta \u001b[36m0:00:00\u001b[0m\n",
            "\u001b[2K     \u001b[90m━━━━━━━━━━━━━━━━━━━━━━━━━━━━━━━━━━━━━━\u001b[0m \u001b[32m224.5/224.5 kB\u001b[0m \u001b[31m28.4 MB/s\u001b[0m eta \u001b[36m0:00:00\u001b[0m\n",
            "\u001b[2K     \u001b[90m━━━━━━━━━━━━━━━━━━━━━━━━━━━━━━━━━━━━━━━━\u001b[0m \u001b[32m90.2/90.2 kB\u001b[0m \u001b[31m13.2 MB/s\u001b[0m eta \u001b[36m0:00:00\u001b[0m\n",
            "\u001b[2K     \u001b[90m━━━━━━━━━━━━━━━━━━━━━━━━━━━━━━━━━━━━━━━━\u001b[0m \u001b[32m78.7/78.7 kB\u001b[0m \u001b[31m11.2 MB/s\u001b[0m eta \u001b[36m0:00:00\u001b[0m\n",
            "\u001b[?25h"
          ]
        }
      ],
      "source": [
        "!pip install -q optuna optuna-integration optuna-dashboard"
      ]
    },
    {
      "cell_type": "markdown",
      "metadata": {
        "id": "wRblI3K0moCF"
      },
      "source": [
        "# Model selection"
      ]
    },
    {
      "cell_type": "markdown",
      "source": [
        "## With Backend"
      ],
      "metadata": {
        "id": "xDgWcCppzFHh"
      }
    },
    {
      "cell_type": "code",
      "execution_count": null,
      "metadata": {
        "id": "S-w9Aabxmjwa"
      },
      "outputs": [],
      "source": [
        "dir = '/content/Trabalho_final_ic/backend_output/'\n",
        "os.path.exists(dir)\n",
        "if not os.path.exists(dir):\n",
        "  %cd skin_cancer_classification/\n",
        "  !python3 save_backend_output.py"
      ]
    },
    {
      "cell_type": "code",
      "execution_count": null,
      "metadata": {
        "id": "1bXrfwVuzgoI"
      },
      "outputs": [],
      "source": [
        "%cd ml_projects/skin_cancer_classification/\n",
        "!python3 model_selection_backend_outputs.py"
      ]
    },
    {
      "cell_type": "markdown",
      "source": [
        "## No Backend"
      ],
      "metadata": {
        "id": "a9dW6SAbzOrh"
      }
    },
    {
      "cell_type": "code",
      "source": [
        "%cd /content/drive/MyDrive/Trabalho_final_ic/ml_projects/skin_cancer_classification/\n",
        "!python3 model_selection_no_backend.py"
      ],
      "metadata": {
        "id": "bRl1wk-LCRke"
      },
      "execution_count": null,
      "outputs": []
    },
    {
      "cell_type": "markdown",
      "source": [
        "# Train NN no backend"
      ],
      "metadata": {
        "id": "-P1PeEzZbMQv"
      }
    },
    {
      "cell_type": "code",
      "source": [
        "!python3 single_model_train_test.py"
      ],
      "metadata": {
        "id": "Wqeq_uSww2qx"
      },
      "execution_count": null,
      "outputs": []
    },
    {
      "cell_type": "markdown",
      "source": [
        "# Optuna-dashboard"
      ],
      "metadata": {
        "id": "JzLkJ9-LamoA"
      }
    },
    {
      "cell_type": "code",
      "source": [
        "import time\n",
        "import threading\n",
        "from optuna_dashboard import wsgi\n",
        "import optuna\n",
        "from wsgiref.simple_server import make_server\n",
        "port = 12345\n",
        "%cd /content/drive/MyDrive/Trabalho_final_ic/outputs/\n",
        "storage = optuna.storages.RDBStorage(\"sqlite:///optuna_db.sqlite3\")\n",
        "app = wsgi(storage)\n",
        "httpd = make_server(\"localhost\", port, app)\n",
        "thread = threading.Thread(target=httpd.serve_forever)\n",
        "thread.start()\n",
        "time.sleep(3) # Wait until the server startup\n",
        "\n",
        "from google.colab import output\n",
        "output.serve_kernel_port_as_window(port, path='/dashboard/')"
      ],
      "metadata": {
        "id": "RAnyiNf-PdXx",
        "colab": {
          "base_uri": "https://localhost:8080/",
          "height": 52
        },
        "outputId": "aec7ce3b-afe0-401b-fac7-1dea0e875b06"
      },
      "execution_count": null,
      "outputs": [
        {
          "output_type": "stream",
          "name": "stdout",
          "text": [
            "/content/drive/MyDrive/Trabalho_final_ic/outputs\n"
          ]
        },
        {
          "output_type": "display_data",
          "data": {
            "text/plain": [
              "<IPython.core.display.Javascript object>"
            ],
            "application/javascript": [
              "(async (port, path, text, element) => {\n",
              "    if (!google.colab.kernel.accessAllowed) {\n",
              "      return;\n",
              "    }\n",
              "    element.appendChild(document.createTextNode(''));\n",
              "    const url = await google.colab.kernel.proxyPort(port);\n",
              "    const anchor = document.createElement('a');\n",
              "    anchor.href = new URL(path, url).toString();\n",
              "    anchor.target = '_blank';\n",
              "    anchor.setAttribute('data-href', url + path);\n",
              "    anchor.textContent = text;\n",
              "    element.appendChild(anchor);\n",
              "  })(12345, \"/dashboard/\", \"https://localhost:12345/dashboard/\", window.element)"
            ]
          },
          "metadata": {}
        }
      ]
    },
    {
      "cell_type": "markdown",
      "source": [
        "# Tensorboard"
      ],
      "metadata": {
        "id": "X_hlWggSbdg8"
      }
    },
    {
      "cell_type": "code",
      "source": [
        "%reload_ext tensorboard\n",
        "\n",
        "%tensorboard --logdir /content/drive/MyDrive/Trabalho_final_ic/outputs/tensorboard_logs/"
      ],
      "metadata": {
        "id": "90Doun2j3SMK"
      },
      "execution_count": null,
      "outputs": []
    }
  ],
  "metadata": {
    "colab": {
      "provenance": [],
      "gpuType": "T4",
      "include_colab_link": true
    },
    "kernelspec": {
      "display_name": "Python 3",
      "name": "python3"
    },
    "language_info": {
      "name": "python"
    },
    "accelerator": "GPU"
  },
  "nbformat": 4,
  "nbformat_minor": 0
}